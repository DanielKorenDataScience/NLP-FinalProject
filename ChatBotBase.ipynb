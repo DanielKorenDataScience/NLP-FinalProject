{
  "nbformat": 4,
  "nbformat_minor": 0,
  "metadata": {
    "colab": {
      "name": "ChatBotBase.ipynb",
      "provenance": [],
      "collapsed_sections": [],
      "include_colab_link": true
    },
    "kernelspec": {
      "name": "python3",
      "display_name": "Python 3"
    },
    "language_info": {
      "name": "python"
    }
  },
  "cells": [
    {
      "cell_type": "markdown",
      "metadata": {
        "id": "view-in-github",
        "colab_type": "text"
      },
      "source": [
        "<a href=\"https://colab.research.google.com/github/DanielKorenDataScience/NLP-FinalProject/blob/main/ChatBotBase.ipynb\" target=\"_parent\"><img src=\"https://colab.research.google.com/assets/colab-badge.svg\" alt=\"Open In Colab\"/></a>"
      ]
    },
    {
      "cell_type": "code",
      "metadata": {
        "id": "a_gXeiB58h8k"
      },
      "source": [
        "from importlib import import_module\n",
        "def my_import(lib, package=None, func=None):\n",
        "  try:\n",
        "    import_module(lib)\n",
        "  except:\n",
        "    if package is None: package = lib\n",
        "    !pip install \"{package}\"\n",
        "    import_module(lib)\n",
        "  \n",
        "  if func is not None:\n",
        "    return import_module(lib).__getattribute__(func)"
      ],
      "execution_count": null,
      "outputs": []
    },
    {
      "cell_type": "code",
      "metadata": {
        "colab": {
          "base_uri": "https://localhost:8080/"
        },
        "id": "RgpLToDvAC0z",
        "outputId": "a57c94fc-c033-47e3-d45e-a930bb021525"
      },
      "source": [
        "my_import('pyforest')\n",
        "\n",
        "p = print\n",
        "d = display"
      ],
      "execution_count": null,
      "outputs": [
        {
          "output_type": "stream",
          "text": [
            "Collecting pyforest\n",
            "  Downloading https://files.pythonhosted.org/packages/e5/ae/418f9bbcfb442bb6775f294451c97e134f84c8c4f47d75208419e4af7e13/pyforest-1.1.0.tar.gz\n",
            "Building wheels for collected packages: pyforest\n",
            "  Building wheel for pyforest (setup.py) ... \u001b[?25l\u001b[?25hdone\n",
            "  Created wheel for pyforest: filename=pyforest-1.1.0-py2.py3-none-any.whl size=14606 sha256=146c2f0d4c4f0b08c58d4141ea62c34484a3c2ff140521e51ff0d92a8a245627\n",
            "  Stored in directory: /root/.cache/pip/wheels/40/c6/da/43562aeea85b37f1a2b3d326f0f602f865000d2ada8a43625f\n",
            "Successfully built pyforest\n",
            "Installing collected packages: pyforest\n",
            "Successfully installed pyforest-1.1.0\n"
          ],
          "name": "stdout"
        }
      ]
    },
    {
      "cell_type": "code",
      "metadata": {
        "id": "opt4fUcLfvZ_",
        "colab": {
          "base_uri": "https://localhost:8080/"
        },
        "outputId": "24fe02cf-df9f-4069-aea0-aaf7e414ad64"
      },
      "source": [
        "my_import('spacy')\n",
        "import requests\n",
        "\n",
        "api_key = 'c2adfa29edfd95ad16efab9218619ff3'\n",
        "URL = \"http://api.openweathermap.org/data/2.5/weather?\"\n",
        "\n",
        "# Load md (medium) English tokenizer, tagger, parser and NER, and vectors(vectors are not included in the 'sm' model)\n",
        "#nlp = spacy.load('en_core_web_md')  NOT WORKING ON COLAB\n",
        "try:\n",
        "  import en_core_web_md\n",
        "except:  \n",
        "  !python -m spacy download en_core_web_md\n",
        "  import en_core_web_md\n",
        "  \n",
        "nlp = en_core_web_md.load()"
      ],
      "execution_count": null,
      "outputs": [
        {
          "output_type": "stream",
          "text": [
            "Collecting en_core_web_md==2.2.5\n",
            "\u001b[?25l  Downloading https://github.com/explosion/spacy-models/releases/download/en_core_web_md-2.2.5/en_core_web_md-2.2.5.tar.gz (96.4MB)\n",
            "\u001b[K     |████████████████████████████████| 96.4MB 1.3MB/s \n",
            "\u001b[?25hRequirement already satisfied: spacy>=2.2.2 in /usr/local/lib/python3.7/dist-packages (from en_core_web_md==2.2.5) (2.2.4)\n",
            "Requirement already satisfied: numpy>=1.15.0 in /usr/local/lib/python3.7/dist-packages (from spacy>=2.2.2->en_core_web_md==2.2.5) (1.19.5)\n",
            "Requirement already satisfied: thinc==7.4.0 in /usr/local/lib/python3.7/dist-packages (from spacy>=2.2.2->en_core_web_md==2.2.5) (7.4.0)\n",
            "Requirement already satisfied: srsly<1.1.0,>=1.0.2 in /usr/local/lib/python3.7/dist-packages (from spacy>=2.2.2->en_core_web_md==2.2.5) (1.0.5)\n",
            "Requirement already satisfied: catalogue<1.1.0,>=0.0.7 in /usr/local/lib/python3.7/dist-packages (from spacy>=2.2.2->en_core_web_md==2.2.5) (1.0.0)\n",
            "Requirement already satisfied: setuptools in /usr/local/lib/python3.7/dist-packages (from spacy>=2.2.2->en_core_web_md==2.2.5) (57.0.0)\n",
            "Requirement already satisfied: requests<3.0.0,>=2.13.0 in /usr/local/lib/python3.7/dist-packages (from spacy>=2.2.2->en_core_web_md==2.2.5) (2.23.0)\n",
            "Requirement already satisfied: cymem<2.1.0,>=2.0.2 in /usr/local/lib/python3.7/dist-packages (from spacy>=2.2.2->en_core_web_md==2.2.5) (2.0.5)\n",
            "Requirement already satisfied: preshed<3.1.0,>=3.0.2 in /usr/local/lib/python3.7/dist-packages (from spacy>=2.2.2->en_core_web_md==2.2.5) (3.0.5)\n",
            "Requirement already satisfied: plac<1.2.0,>=0.9.6 in /usr/local/lib/python3.7/dist-packages (from spacy>=2.2.2->en_core_web_md==2.2.5) (1.1.3)\n",
            "Requirement already satisfied: wasabi<1.1.0,>=0.4.0 in /usr/local/lib/python3.7/dist-packages (from spacy>=2.2.2->en_core_web_md==2.2.5) (0.8.2)\n",
            "Requirement already satisfied: tqdm<5.0.0,>=4.38.0 in /usr/local/lib/python3.7/dist-packages (from spacy>=2.2.2->en_core_web_md==2.2.5) (4.41.1)\n",
            "Requirement already satisfied: murmurhash<1.1.0,>=0.28.0 in /usr/local/lib/python3.7/dist-packages (from spacy>=2.2.2->en_core_web_md==2.2.5) (1.0.5)\n",
            "Requirement already satisfied: blis<0.5.0,>=0.4.0 in /usr/local/lib/python3.7/dist-packages (from spacy>=2.2.2->en_core_web_md==2.2.5) (0.4.1)\n",
            "Requirement already satisfied: importlib-metadata>=0.20; python_version < \"3.8\" in /usr/local/lib/python3.7/dist-packages (from catalogue<1.1.0,>=0.0.7->spacy>=2.2.2->en_core_web_md==2.2.5) (4.5.0)\n",
            "Requirement already satisfied: urllib3!=1.25.0,!=1.25.1,<1.26,>=1.21.1 in /usr/local/lib/python3.7/dist-packages (from requests<3.0.0,>=2.13.0->spacy>=2.2.2->en_core_web_md==2.2.5) (1.24.3)\n",
            "Requirement already satisfied: chardet<4,>=3.0.2 in /usr/local/lib/python3.7/dist-packages (from requests<3.0.0,>=2.13.0->spacy>=2.2.2->en_core_web_md==2.2.5) (3.0.4)\n",
            "Requirement already satisfied: idna<3,>=2.5 in /usr/local/lib/python3.7/dist-packages (from requests<3.0.0,>=2.13.0->spacy>=2.2.2->en_core_web_md==2.2.5) (2.10)\n",
            "Requirement already satisfied: certifi>=2017.4.17 in /usr/local/lib/python3.7/dist-packages (from requests<3.0.0,>=2.13.0->spacy>=2.2.2->en_core_web_md==2.2.5) (2021.5.30)\n",
            "Requirement already satisfied: typing-extensions>=3.6.4; python_version < \"3.8\" in /usr/local/lib/python3.7/dist-packages (from importlib-metadata>=0.20; python_version < \"3.8\"->catalogue<1.1.0,>=0.0.7->spacy>=2.2.2->en_core_web_md==2.2.5) (3.7.4.3)\n",
            "Requirement already satisfied: zipp>=0.5 in /usr/local/lib/python3.7/dist-packages (from importlib-metadata>=0.20; python_version < \"3.8\"->catalogue<1.1.0,>=0.0.7->spacy>=2.2.2->en_core_web_md==2.2.5) (3.4.1)\n",
            "Building wheels for collected packages: en-core-web-md\n",
            "  Building wheel for en-core-web-md (setup.py) ... \u001b[?25l\u001b[?25hdone\n",
            "  Created wheel for en-core-web-md: filename=en_core_web_md-2.2.5-cp37-none-any.whl size=98051304 sha256=9f39d24f01b28abf08c375d69084e2bda97d53e433fc3ee8debadddb6f058e23\n",
            "  Stored in directory: /tmp/pip-ephem-wheel-cache-rr9mgybr/wheels/df/94/ad/f5cf59224cea6b5686ac4fd1ad19c8a07bc026e13c36502d81\n",
            "Successfully built en-core-web-md\n",
            "Installing collected packages: en-core-web-md\n",
            "Successfully installed en-core-web-md-2.2.5\n",
            "\u001b[38;5;2m✔ Download and installation successful\u001b[0m\n",
            "You can now load the model via spacy.load('en_core_web_md')\n"
          ],
          "name": "stdout"
        }
      ]
    },
    {
      "cell_type": "code",
      "metadata": {
        "id": "TmjOw7eHHC0I"
      },
      "source": [
        "TEST = True"
      ],
      "execution_count": null,
      "outputs": []
    },
    {
      "cell_type": "code",
      "metadata": {
        "colab": {
          "base_uri": "https://localhost:8080/"
        },
        "id": "Kkn5WmrShACd",
        "outputId": "8c63c9ad-9b21-4cd2-8676-8fe657237096"
      },
      "source": [
        "def get_weather(city_name):\n",
        "    api_url = URL + \"q={}&appid={}\".format(city_name, api_key)\n",
        "\n",
        "    response = requests.get(api_url)\n",
        "    response_dict = response.json()\n",
        "\n",
        "    weather = response_dict#[\"weather\"]#[0]#[\"description\"]\n",
        "\n",
        "    if response.status_code == 200:\n",
        "        return weather\n",
        "    else:\n",
        "        print('[!] HTTP {0} calling [{1}]'.format(response.status_code, api_url))\n",
        "        return None\n",
        "\n",
        "if TEST:\n",
        "  weather = get_weather(\"London\")\n",
        "  print(weather)        "
      ],
      "execution_count": null,
      "outputs": [
        {
          "output_type": "stream",
          "text": [
            "{'coord': {'lon': -0.1257, 'lat': 51.5085}, 'weather': [{'id': 804, 'main': 'Clouds', 'description': 'overcast clouds', 'icon': '04d'}], 'base': 'stations', 'main': {'temp': 287.66, 'feels_like': 287.62, 'temp_min': 285.3, 'temp_max': 290.03, 'pressure': 1012, 'humidity': 94}, 'visibility': 6000, 'wind': {'speed': 2.57, 'deg': 10}, 'clouds': {'all': 90}, 'dt': 1624018969, 'sys': {'type': 2, 'id': 268730, 'country': 'GB', 'sunrise': 1623987763, 'sunset': 1624047637}, 'timezone': 3600, 'id': 2643743, 'name': 'London', 'cod': 200}\n"
          ],
          "name": "stdout"
        }
      ]
    },
    {
      "cell_type": "code",
      "metadata": {
        "id": "IQObVOJn-LGD"
      },
      "source": [
        "WEATHER_ONLY = 1"
      ],
      "execution_count": null,
      "outputs": []
    },
    {
      "cell_type": "code",
      "metadata": {
        "colab": {
          "base_uri": "https://localhost:8080/",
          "height": 35
        },
        "id": "y1XIdfNeh1d5",
        "outputId": "e4489c4e-2553-495d-fadf-a631ba95a714"
      },
      "source": [
        "def chatbot_response(statement):\n",
        "  template = \"Current weather in a city\"\n",
        "  doc = nlp(statement)\n",
        "  min_similarity = 0.75\n",
        "\n",
        "  #similarity = calculate_similarity(statement, template)\n",
        "  #p(similarity)\n",
        "  similarity = 1\n",
        "\n",
        "  if len(doc) == 1 or similarity >= min_similarity:\n",
        "    city = ''\n",
        "    for ent in doc.ents:\n",
        "      if ent.label_ == \"GPE\": # GeoPolitical Entity\n",
        "        city = ent.text\n",
        "        break\n",
        "      else:\n",
        "        return \"You need to tell me a city to check.\"\n",
        "    if city == '':\n",
        "      return \"You need to tell me a city to check.\"\n",
        "\n",
        "    template = WEATHER_ONLY\n",
        "\n",
        "    city_weather = get_weather(city)\n",
        "    if city_weather is not None:\n",
        "      if template == WEATHER_ONLY:\n",
        "        result = city_weather[\"weather\"][0][\"description\"]\n",
        "      return f\"In {city}, the current weather is: {result}\"\n",
        "    else:\n",
        "      return \"Something went wrong.\"\n",
        "  else:\n",
        "    return \"Sorry I don't understand that. Please rephrase your statement.\"\n",
        "\n",
        "chatbot_response('Current Weather in Cleveland')\n",
        "#chatbot_response('tel aviv')"
      ],
      "execution_count": null,
      "outputs": [
        {
          "output_type": "execute_result",
          "data": {
            "application/vnd.google.colaboratory.intrinsic+json": {
              "type": "string"
            },
            "text/plain": [
              "'In Cleveland, the current weather is: broken clouds'"
            ]
          },
          "metadata": {
            "tags": []
          },
          "execution_count": 10
        }
      ]
    },
    {
      "cell_type": "code",
      "metadata": {
        "id": "ZFIUD4FCXyUc"
      },
      "source": [
        "def get_parts(text, disp=False):\n",
        "  doc = nlp(text.lower())\n",
        "  date, gpe = [], []\n",
        "  action = ''\n",
        "  p()\n",
        "  if disp:\n",
        "    for token in doc:\n",
        "      p(token.text, token.dep_, token.ent_type_, token.head, token.lemma_, token.pos_, token.tag_)\n",
        "  for entity in doc.ents:\n",
        "      if disp:\n",
        "        print(entity.text, entity.label_)\n",
        "      if entity.label_ == 'DATE': date.append(entity.text.lower())\n",
        "      if entity.label_ == 'GPE': gpe.append(entity.text.lower())\n",
        "  if len(date) == 0:\n",
        "    date = ['current']\n",
        "  p(date, gpe)"
      ],
      "execution_count": null,
      "outputs": []
    },
    {
      "cell_type": "code",
      "metadata": {
        "colab": {
          "base_uri": "https://localhost:8080/"
        },
        "id": "LcfVvMeRddoX",
        "outputId": "f50bd491-a24c-48a0-828a-26b763e4cf2b"
      },
      "source": [
        "get_parts(\"Today weather in a Ra-anana\")\n",
        "get_parts(\"weather paris next 5 days\")\n",
        "get_parts(\"weather paris today and tomorrow\")\n",
        "get_parts(\"weather paris\")\n",
        "get_parts(\"weather paris, canada\")\n",
        "get_parts(\"weather paris Canada\", True)\n",
        "get_parts(\"weather paris in December\")\n",
        "get_parts(\"weather in tel aviv\")\n",
        "get_parts(\"tomorrow weather in haifa\")\n",
        "get_parts(\"tomorrow rain in haifa\", True)"
      ],
      "execution_count": null,
      "outputs": [
        {
          "output_type": "stream",
          "text": [
            "\n",
            "['today'] []\n",
            "\n",
            "['next 5 days'] ['paris']\n",
            "\n",
            "['today', 'tomorrow'] ['paris']\n",
            "\n",
            "['current'] ['paris']\n",
            "\n",
            "['current'] ['paris', 'canada']\n",
            "\n",
            "weather compound  canada weather PROPN NNP\n",
            "paris compound  canada paris PROPN NNP\n",
            "canada ROOT  canada canada PROPN NNP\n",
            "['current'] []\n",
            "\n",
            "['december'] ['paris']\n",
            "\n",
            "['current'] ['tel aviv']\n",
            "\n",
            "['tomorrow'] ['haifa']\n",
            "\n",
            "tomorrow compound DATE rain tomorrow NOUN NN\n",
            "rain ROOT  rain rain NOUN NN\n",
            "in prep  rain in ADP IN\n",
            "haifa pobj GPE in haifa PROPN NNP\n",
            "tomorrow DATE\n",
            "haifa GPE\n",
            "['tomorrow'] ['haifa']\n"
          ],
          "name": "stdout"
        }
      ]
    },
    {
      "cell_type": "code",
      "metadata": {
        "id": "lW5qASXDidaX",
        "colab": {
          "base_uri": "https://localhost:8080/"
        },
        "outputId": "d8ae3bf9-bc96-4e67-b7b4-9a6cfe2e3aa6"
      },
      "source": [
        "while True:\n",
        "  msg = input()\n",
        "  if msg == '': break\n",
        "  p(chatbot_response(msg))\n",
        "  p()"
      ],
      "execution_count": null,
      "outputs": [
        {
          "output_type": "stream",
          "text": [
            "weather in hadera\n",
            "In hadera, the current weather is: clear sky\n",
            "\n",
            "\n"
          ],
          "name": "stdout"
        }
      ]
    }
  ]
}